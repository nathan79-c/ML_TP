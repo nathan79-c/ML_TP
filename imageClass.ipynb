{
 "cells": [
  {
   "cell_type": "code",
   "execution_count": 4,
   "metadata": {},
   "outputs": [
    {
     "name": "stdout",
     "output_type": "stream",
     "text": [
      "Found 72 images belonging to 2 classes.\n",
      "Found 40 images belonging to 2 classes.\n"
     ]
    }
   ],
   "source": [
    "import tensorflow as tf\n",
    "from tensorflow.keras.preprocessing.image import ImageDataGenerator\n",
    "\n",
    "# Define constants\n",
    "IMAGE_SIZE = (224, 224)  # Target image size for resizing\n",
    "BATCH_SIZE = 32\n",
    "\n",
    "# Data Augmentation\n",
    "train_datagen = ImageDataGenerator(\n",
    "    rescale=1./255,  # Normalize pixel values to [0, 1]\n",
    "    rotation_range=20,\n",
    "    width_shift_range=0.2,\n",
    "    height_shift_range=0.2,\n",
    "    shear_range=0.2,\n",
    "    zoom_range=0.2,\n",
    "    horizontal_flip=True,\n",
    "    fill_mode='nearest'\n",
    ")\n",
    "\n",
    "# Data Loading and Preprocessing\n",
    "train_generator = train_datagen.flow_from_directory(\n",
    "    'dataset/training',\n",
    "    target_size=IMAGE_SIZE,\n",
    "    batch_size=BATCH_SIZE,\n",
    "    class_mode='categorical'  # for multi-class classification\n",
    ")\n",
    "\n",
    "test_datagen = ImageDataGenerator(rescale=1./255)  # No augmentation for test data\n",
    "test_generator = test_datagen.flow_from_directory(\n",
    "    'dataset/test',\n",
    "    target_size=IMAGE_SIZE,\n",
    "    batch_size=BATCH_SIZE,\n",
    "    class_mode='categorical'  # for multi-class classification\n",
    ")\n"
   ]
  },
  {
   "cell_type": "code",
   "execution_count": 5,
   "metadata": {},
   "outputs": [
    {
     "name": "stdout",
     "output_type": "stream",
     "text": [
      "Class labels: {'ali': 0, 'nathan': 1}\n",
      "Labels: {0: 'ali', 1: 'nathan'}\n"
     ]
    }
   ],
   "source": [
    "# Get the class labels\n",
    "class_labels = train_generator.class_indices\n",
    "\n",
    "# Print the class labels\n",
    "print(\"Class labels:\", class_labels)\n",
    "\n",
    "# Invert the dictionary to get class names from indices\n",
    "labels = dict((v, k) for k, v in class_labels.items())\n",
    "print(\"Labels:\", labels)\n"
   ]
  },
  {
   "cell_type": "code",
   "execution_count": 6,
   "metadata": {},
   "outputs": [
    {
     "name": "stderr",
     "output_type": "stream",
     "text": [
      "2024-02-08 13:21:53.849558: W external/local_tsl/tsl/framework/cpu_allocator_impl.cc:83] Allocation of 44302336 exceeds 10% of free system memory.\n",
      "2024-02-08 13:21:53.877031: W external/local_tsl/tsl/framework/cpu_allocator_impl.cc:83] Allocation of 44302336 exceeds 10% of free system memory.\n",
      "2024-02-08 13:21:53.922336: W external/local_tsl/tsl/framework/cpu_allocator_impl.cc:83] Allocation of 44302336 exceeds 10% of free system memory.\n"
     ]
    },
    {
     "name": "stdout",
     "output_type": "stream",
     "text": [
      "Epoch 1/10\n"
     ]
    },
    {
     "name": "stderr",
     "output_type": "stream",
     "text": [
      "2024-02-08 13:21:58.366036: W external/local_tsl/tsl/framework/cpu_allocator_impl.cc:83] Allocation of 44302336 exceeds 10% of free system memory.\n",
      "2024-02-08 13:21:58.379664: W external/local_tsl/tsl/framework/cpu_allocator_impl.cc:83] Allocation of 44302336 exceeds 10% of free system memory.\n"
     ]
    },
    {
     "name": "stdout",
     "output_type": "stream",
     "text": [
      "2/2 [==============================] - 22s 12s/step - loss: 0.9484 - accuracy: 0.6406 - val_loss: 4.0864 - val_accuracy: 0.4688\n",
      "Epoch 2/10\n",
      "2/2 [==============================] - 13s 5s/step - loss: 3.6364 - accuracy: 0.3250 - val_loss: 0.5764 - val_accuracy: 1.0000\n",
      "Epoch 3/10\n",
      "2/2 [==============================] - 11s 4s/step - loss: 0.6480 - accuracy: 0.5750 - val_loss: 0.5935 - val_accuracy: 0.5312\n",
      "Epoch 4/10\n",
      "2/2 [==============================] - 8s 4s/step - loss: 0.6475 - accuracy: 0.4250 - val_loss: 0.5332 - val_accuracy: 1.0000\n",
      "Epoch 5/10\n",
      "2/2 [==============================] - 9s 8s/step - loss: 0.5734 - accuracy: 0.7500 - val_loss: 0.4853 - val_accuracy: 1.0000\n",
      "Epoch 6/10\n",
      "2/2 [==============================] - 8s 7s/step - loss: 0.5729 - accuracy: 0.6750 - val_loss: 0.5198 - val_accuracy: 0.4375\n",
      "Epoch 7/10\n",
      "2/2 [==============================] - 8s 4s/step - loss: 0.5145 - accuracy: 0.7500 - val_loss: 0.2143 - val_accuracy: 1.0000\n",
      "Epoch 8/10\n",
      "2/2 [==============================] - 11s 6s/step - loss: 0.3587 - accuracy: 0.9844 - val_loss: 0.1102 - val_accuracy: 1.0000\n",
      "Epoch 9/10\n",
      "2/2 [==============================] - 8s 4s/step - loss: 0.3303 - accuracy: 0.9250 - val_loss: 0.0536 - val_accuracy: 1.0000\n",
      "Epoch 10/10\n",
      "2/2 [==============================] - 9s 8s/step - loss: 0.2178 - accuracy: 0.9500 - val_loss: 0.0179 - val_accuracy: 1.0000\n"
     ]
    }
   ],
   "source": [
    "from tensorflow.keras.models import Sequential\n",
    "from tensorflow.keras.layers import Conv2D, MaxPooling2D, Flatten, Dense, Dropout\n",
    "\n",
    "# Define the CNN model\n",
    "model = Sequential([\n",
    "    Conv2D(32, (3, 3), activation='relu', input_shape=(224, 224, 3)),\n",
    "    MaxPooling2D((2, 2)),\n",
    "    Conv2D(64, (3, 3), activation='relu'),\n",
    "    MaxPooling2D((2, 2)),\n",
    "    Conv2D(128, (3, 3), activation='relu'),\n",
    "    MaxPooling2D((2, 2)),\n",
    "    Flatten(),\n",
    "    Dense(128, activation='relu'),\n",
    "    Dropout(0.5),\n",
    "    Dense(2, activation='softmax')  # Adjust the number of units according to your classification task\n",
    "])\n",
    "\n",
    "\n",
    "# Compile the model\n",
    "model.compile(optimizer='adam', loss='categorical_crossentropy', metrics=['accuracy'])\n",
    "\n",
    "# Train the model\n",
    "history = model.fit(\n",
    "    train_generator,\n",
    "    steps_per_epoch=train_generator.samples // BATCH_SIZE,\n",
    "    epochs=10,  # Adjust the number of epochs as needed\n",
    "    validation_data=test_generator,\n",
    "    validation_steps=test_generator.samples // BATCH_SIZE\n",
    ")\n"
   ]
  },
  {
   "cell_type": "code",
   "execution_count": 7,
   "metadata": {},
   "outputs": [
    {
     "name": "stdout",
     "output_type": "stream",
     "text": [
      "1/1 [==============================] - 3s 3s/step - loss: 0.0182 - accuracy: 1.0000\n",
      "Test Loss: 0.01816173642873764\n",
      "Test Accuracy: 1.0\n"
     ]
    }
   ],
   "source": [
    "# Evaluate the model on the test data\n",
    "test_loss, test_accuracy = model.evaluate(test_generator, steps=test_generator.samples // BATCH_SIZE)\n",
    "print(\"Test Loss:\", test_loss)\n",
    "print(\"Test Accuracy:\", test_accuracy)\n"
   ]
  },
  {
   "cell_type": "code",
   "execution_count": 8,
   "metadata": {},
   "outputs": [
    {
     "name": "stdout",
     "output_type": "stream",
     "text": [
      "1/1 [==============================] - 3s 3s/step\n",
      "Predicted class: ali\n",
      "True class: ali\n",
      "\n",
      "Predicted class: nathan\n",
      "True class: ali\n",
      "\n",
      "Predicted class: nathan\n",
      "True class: ali\n",
      "\n",
      "Predicted class: nathan\n",
      "True class: ali\n",
      "\n",
      "Predicted class: ali\n",
      "True class: ali\n",
      "\n",
      "Predicted class: nathan\n",
      "True class: ali\n",
      "\n",
      "Predicted class: nathan\n",
      "True class: ali\n",
      "\n",
      "Predicted class: nathan\n",
      "True class: ali\n",
      "\n",
      "Predicted class: nathan\n",
      "True class: ali\n",
      "\n",
      "Predicted class: ali\n",
      "True class: ali\n",
      "\n"
     ]
    }
   ],
   "source": [
    "import numpy as np\n",
    "\n",
    "# Generate predictions for the test set\n",
    "predictions = model.predict(test_generator, steps=test_generator.samples // BATCH_SIZE)\n",
    "\n",
    "# Convert the predicted probabilities to class labels\n",
    "predicted_classes = np.argmax(predictions, axis=1)\n",
    "\n",
    "# Get the true class labels from the test generator\n",
    "true_classes = test_generator.classes\n",
    "\n",
    "# Get the class labels\n",
    "class_labels = list(test_generator.class_indices.keys())\n",
    "\n",
    "# Print some example predictions\n",
    "for i in range(10):\n",
    "    print(\"Predicted class:\", class_labels[predicted_classes[i]])\n",
    "    print(\"True class:\", class_labels[true_classes[i]])\n",
    "    print()  # Empty line for clarity\n"
   ]
  },
  {
   "cell_type": "code",
   "execution_count": 14,
   "metadata": {},
   "outputs": [
    {
     "name": "stdout",
     "output_type": "stream",
     "text": [
      "1/1 [==============================] - 0s 39ms/step\n",
      "Predicted class: ali\n",
      "Confidence score: 0.98438466\n"
     ]
    }
   ],
   "source": [
    "from tensorflow.keras.preprocessing import image\n",
    "import numpy as np\n",
    "\n",
    "# Load and preprocess the image\n",
    "img_path = '/home/nathan/Documents/TP_one_ML/ali_v.jpeg'  # Replace with the path to your image\n",
    "img = image.load_img(img_path, target_size=(224, 224))\n",
    "img_array = image.img_to_array(img)\n",
    "img_array = np.expand_dims(img_array, axis=0)\n",
    "img_array /= 255.  # Normalize the pixel values\n",
    "\n",
    "# Make a prediction\n",
    "prediction = model.predict(img_array)\n",
    "\n",
    "# Convert the predicted probabilities to class labels\n",
    "predicted_class = np.argmax(prediction)\n",
    "\n",
    "# Get the class label\n",
    "class_labels = list(train_generator.class_indices.keys())\n",
    "predicted_label = class_labels[predicted_class]\n",
    "\n",
    "# Display the prediction\n",
    "print(\"Predicted class:\", predicted_label)\n",
    "print(\"Confidence score:\", prediction[0][predicted_class])\n"
   ]
  }
 ],
 "metadata": {
  "kernelspec": {
   "display_name": "Python 3",
   "language": "python",
   "name": "python3"
  },
  "language_info": {
   "codemirror_mode": {
    "name": "ipython",
    "version": 3
   },
   "file_extension": ".py",
   "mimetype": "text/x-python",
   "name": "python",
   "nbconvert_exporter": "python",
   "pygments_lexer": "ipython3",
   "version": "3.11.4"
  }
 },
 "nbformat": 4,
 "nbformat_minor": 2
}
